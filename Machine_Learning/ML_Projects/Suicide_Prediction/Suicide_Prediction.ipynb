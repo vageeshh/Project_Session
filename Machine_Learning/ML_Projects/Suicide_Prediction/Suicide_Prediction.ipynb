{
  "nbformat": 4,
  "nbformat_minor": 0,
  "metadata": {
    "colab": {
      "name": "WHO Suicide.ipynb",
      "provenance": [],
      "collapsed_sections": []
    },
    "kernelspec": {
      "name": "python3",
      "display_name": "Python 3"
    }
  },
  "cells": [
    {
      "cell_type": "markdown",
      "metadata": {
        "id": "8zFSa7R16B6s"
      },
      "source": [
        "**Installing the Libraries**"
      ]
    },
    {
      "cell_type": "code",
      "metadata": {
        "id": "8fmxe-sn5v1m"
      },
      "source": [
        "import numpy as np\n",
        "import pandas as pd\n",
        "\n",
        "import matplotlib.pyplot as plt\n",
        "import seaborn as sns"
      ],
      "execution_count": null,
      "outputs": []
    },
    {
      "cell_type": "markdown",
      "metadata": {
        "id": "7EU0hl2R6SCg"
      },
      "source": [
        "**Importing the Dataset**"
      ]
    },
    {
      "cell_type": "code",
      "metadata": {
        "id": "hVYcsGLI6RV8",
        "colab": {
          "base_uri": "https://localhost:8080/",
          "height": 225
        },
        "outputId": "970aa8bc-b62b-456e-a9a2-483c777981c8"
      },
      "source": [
        "data = pd.read_csv('drive/My Drive/Projects/WHO Suicide/who_suicide_statistics.csv')\n",
        "\n",
        "data = data.sort_values(['year'], ascending = True)\n",
        "\n",
        "print(data.shape)\n",
        "\n",
        "data.head()"
      ],
      "execution_count": null,
      "outputs": [
        {
          "output_type": "stream",
          "text": [
            "(43776, 6)\n"
          ],
          "name": "stdout"
        },
        {
          "output_type": "execute_result",
          "data": {
            "text/html": [
              "<div>\n",
              "<style scoped>\n",
              "    .dataframe tbody tr th:only-of-type {\n",
              "        vertical-align: middle;\n",
              "    }\n",
              "\n",
              "    .dataframe tbody tr th {\n",
              "        vertical-align: top;\n",
              "    }\n",
              "\n",
              "    .dataframe thead th {\n",
              "        text-align: right;\n",
              "    }\n",
              "</style>\n",
              "<table border=\"1\" class=\"dataframe\">\n",
              "  <thead>\n",
              "    <tr style=\"text-align: right;\">\n",
              "      <th></th>\n",
              "      <th>country</th>\n",
              "      <th>year</th>\n",
              "      <th>sex</th>\n",
              "      <th>age</th>\n",
              "      <th>suicides_no</th>\n",
              "      <th>population</th>\n",
              "    </tr>\n",
              "  </thead>\n",
              "  <tbody>\n",
              "    <tr>\n",
              "      <th>6204</th>\n",
              "      <td>Brazil</td>\n",
              "      <td>1979</td>\n",
              "      <td>female</td>\n",
              "      <td>15-24 years</td>\n",
              "      <td>385.0</td>\n",
              "      <td>12448100.0</td>\n",
              "    </tr>\n",
              "    <tr>\n",
              "      <th>26470</th>\n",
              "      <td>Netherlands</td>\n",
              "      <td>1979</td>\n",
              "      <td>male</td>\n",
              "      <td>55-74 years</td>\n",
              "      <td>217.0</td>\n",
              "      <td>1040500.0</td>\n",
              "    </tr>\n",
              "    <tr>\n",
              "      <th>26471</th>\n",
              "      <td>Netherlands</td>\n",
              "      <td>1979</td>\n",
              "      <td>male</td>\n",
              "      <td>75+ years</td>\n",
              "      <td>93.0</td>\n",
              "      <td>235800.0</td>\n",
              "    </tr>\n",
              "    <tr>\n",
              "      <th>2615</th>\n",
              "      <td>Austria</td>\n",
              "      <td>1979</td>\n",
              "      <td>male</td>\n",
              "      <td>75+ years</td>\n",
              "      <td>NaN</td>\n",
              "      <td>141900.0</td>\n",
              "    </tr>\n",
              "    <tr>\n",
              "      <th>2614</th>\n",
              "      <td>Austria</td>\n",
              "      <td>1979</td>\n",
              "      <td>male</td>\n",
              "      <td>55-74 years</td>\n",
              "      <td>NaN</td>\n",
              "      <td>573800.0</td>\n",
              "    </tr>\n",
              "  </tbody>\n",
              "</table>\n",
              "</div>"
            ],
            "text/plain": [
              "           country  year     sex          age  suicides_no  population\n",
              "6204        Brazil  1979  female  15-24 years        385.0  12448100.0\n",
              "26470  Netherlands  1979    male  55-74 years        217.0   1040500.0\n",
              "26471  Netherlands  1979    male    75+ years         93.0    235800.0\n",
              "2615       Austria  1979    male    75+ years          NaN    141900.0\n",
              "2614       Austria  1979    male  55-74 years          NaN    573800.0"
            ]
          },
          "metadata": {
            "tags": []
          },
          "execution_count": 193
        }
      ]
    },
    {
      "cell_type": "markdown",
      "metadata": {
        "id": "YI5iOY0SQlE-"
      },
      "source": [
        "**Data Visualization**"
      ]
    },
    {
      "cell_type": "code",
      "metadata": {
        "id": "IgQvIrHoQ8d7",
        "colab": {
          "base_uri": "https://localhost:8080/",
          "height": 230
        },
        "outputId": "bfd9db0b-6223-479f-aa6c-5b05920ab392"
      },
      "source": [
        "# correlation plot\n",
        "\n",
        "f, ax = plt.subplots(figsize = (4, 3))\n",
        "\n",
        "corr = data.corr()\n",
        "sns.heatmap(corr, mask = np.zeros_like(corr, dtype = np.bool), \n",
        "            cmap = sns.diverging_palette(3, 3, as_cmap = True), square = True, ax = ax)"
      ],
      "execution_count": null,
      "outputs": [
        {
          "output_type": "execute_result",
          "data": {
            "text/plain": [
              "<matplotlib.axes._subplots.AxesSubplot at 0x7f3bc0f4c630>"
            ]
          },
          "metadata": {
            "tags": []
          },
          "execution_count": 152
        },
        {
          "output_type": "display_data",
          "data": {
            "image/png": "[encoded data removed]",
            "text/plain": [
              "<matplotlib.figure.Figure at 0x7f3bc0f40f28>"
            ]
          },
          "metadata": {
            "tags": []
          }
        }
      ]
    },
    {
      "cell_type": "code",
      "metadata": {
        "id": "htbuYmFyRPCH",
        "colab": {
          "base_uri": "https://localhost:8080/",
          "height": 36
        },
        "outputId": "3ddf7b23-aff4-4d04-bb9f-fadfb60c6d9b"
      },
      "source": [
        "# renaming the columns\n",
        "\n",
        "data.rename({'sex' : 'gender', 'suicides_no' : 'suicides'}, inplace = True, axis = 1)\n",
        "\n",
        "data.columns"
      ],
      "execution_count": null,
      "outputs": [
        {
          "output_type": "execute_result",
          "data": {
            "text/plain": [
              "Index(['country', 'year', 'gender', 'age', 'suicides', 'population'], dtype='object')"
            ]
          },
          "metadata": {
            "tags": []
          },
          "execution_count": 153
        }
      ]
    },
    {
      "cell_type": "code",
      "metadata": {
        "id": "xamPx3FS7Sis",
        "colab": {
          "base_uri": "https://localhost:8080/",
          "height": 223
        },
        "outputId": "8def4e7e-9767-4bc6-bd78-4af4fa74834e"
      },
      "source": [
        "data.info()"
      ],
      "execution_count": null,
      "outputs": [
        {
          "output_type": "stream",
          "text": [
            "<class 'pandas.core.frame.DataFrame'>\n",
            "Int64Index: 43776 entries, 6204 to 25858\n",
            "Data columns (total 6 columns):\n",
            "country       43776 non-null object\n",
            "year          43776 non-null int64\n",
            "gender        43776 non-null object\n",
            "age           43776 non-null object\n",
            "suicides      41520 non-null float64\n",
            "population    38316 non-null float64\n",
            "dtypes: float64(2), int64(1), object(3)\n",
            "memory usage: 2.3+ MB\n"
          ],
          "name": "stdout"
        }
      ]
    },
    {
      "cell_type": "code",
      "metadata": {
        "id": "i-qexeyM7UjC",
        "colab": {
          "base_uri": "https://localhost:8080/",
          "height": 300
        },
        "outputId": "b0560f77-6733-43e3-fc46-d2a30545e962"
      },
      "source": [
        "data.describe()"
      ],
      "execution_count": null,
      "outputs": [
        {
          "output_type": "execute_result",
          "data": {
            "text/html": [
              "<div>\n",
              "<style scoped>\n",
              "    .dataframe tbody tr th:only-of-type {\n",
              "        vertical-align: middle;\n",
              "    }\n",
              "\n",
              "    .dataframe tbody tr th {\n",
              "        vertical-align: top;\n",
              "    }\n",
              "\n",
              "    .dataframe thead th {\n",
              "        text-align: right;\n",
              "    }\n",
              "</style>\n",
              "<table border=\"1\" class=\"dataframe\">\n",
              "  <thead>\n",
              "    <tr style=\"text-align: right;\">\n",
              "      <th></th>\n",
              "      <th>year</th>\n",
              "      <th>suicides</th>\n",
              "      <th>population</th>\n",
              "    </tr>\n",
              "  </thead>\n",
              "  <tbody>\n",
              "    <tr>\n",
              "      <th>count</th>\n",
              "      <td>43776.000000</td>\n",
              "      <td>41520.000000</td>\n",
              "      <td>3.831600e+04</td>\n",
              "    </tr>\n",
              "    <tr>\n",
              "      <th>mean</th>\n",
              "      <td>1998.502467</td>\n",
              "      <td>193.315390</td>\n",
              "      <td>1.664091e+06</td>\n",
              "    </tr>\n",
              "    <tr>\n",
              "      <th>std</th>\n",
              "      <td>10.338711</td>\n",
              "      <td>800.589926</td>\n",
              "      <td>3.647231e+06</td>\n",
              "    </tr>\n",
              "    <tr>\n",
              "      <th>min</th>\n",
              "      <td>1979.000000</td>\n",
              "      <td>0.000000</td>\n",
              "      <td>2.590000e+02</td>\n",
              "    </tr>\n",
              "    <tr>\n",
              "      <th>25%</th>\n",
              "      <td>1990.000000</td>\n",
              "      <td>1.000000</td>\n",
              "      <td>8.511275e+04</td>\n",
              "    </tr>\n",
              "    <tr>\n",
              "      <th>50%</th>\n",
              "      <td>1999.000000</td>\n",
              "      <td>14.000000</td>\n",
              "      <td>3.806550e+05</td>\n",
              "    </tr>\n",
              "    <tr>\n",
              "      <th>75%</th>\n",
              "      <td>2007.000000</td>\n",
              "      <td>91.000000</td>\n",
              "      <td>1.305698e+06</td>\n",
              "    </tr>\n",
              "    <tr>\n",
              "      <th>max</th>\n",
              "      <td>2016.000000</td>\n",
              "      <td>22338.000000</td>\n",
              "      <td>4.380521e+07</td>\n",
              "    </tr>\n",
              "  </tbody>\n",
              "</table>\n",
              "</div>"
            ],
            "text/plain": [
              "               year      suicides    population\n",
              "count  43776.000000  41520.000000  3.831600e+04\n",
              "mean    1998.502467    193.315390  1.664091e+06\n",
              "std       10.338711    800.589926  3.647231e+06\n",
              "min     1979.000000      0.000000  2.590000e+02\n",
              "25%     1990.000000      1.000000  8.511275e+04\n",
              "50%     1999.000000     14.000000  3.806550e+05\n",
              "75%     2007.000000     91.000000  1.305698e+06\n",
              "max     2016.000000  22338.000000  4.380521e+07"
            ]
          },
          "metadata": {
            "tags": []
          },
          "execution_count": 155
        }
      ]
    },
    {
      "cell_type": "code",
      "metadata": {
        "id": "NQxihaIl7WmJ",
        "colab": {
          "base_uri": "https://localhost:8080/",
          "height": 148
        },
        "outputId": "74ad88cd-cb13-47b3-bedd-c4a8b31b8bc0"
      },
      "source": [
        "data.isnull().sum()"
      ],
      "execution_count": null,
      "outputs": [
        {
          "output_type": "execute_result",
          "data": {
            "text/plain": [
              "country          0\n",
              "year             0\n",
              "gender           0\n",
              "age              0\n",
              "suicides      2256\n",
              "population    5460\n",
              "dtype: int64"
            ]
          },
          "metadata": {
            "tags": []
          },
          "execution_count": 156
        }
      ]
    },
    {
      "cell_type": "code",
      "metadata": {
        "id": "1ZCLScVb7ZW3",
        "colab": {
          "base_uri": "https://localhost:8080/",
          "height": 36
        },
        "outputId": "6afe0b5f-6b37-4453-9477-b52028979f15"
      },
      "source": [
        "data['country'].value_counts().count()"
      ],
      "execution_count": null,
      "outputs": [
        {
          "output_type": "execute_result",
          "data": {
            "text/plain": [
              "141"
            ]
          },
          "metadata": {
            "tags": []
          },
          "execution_count": 157
        }
      ]
    },
    {
      "cell_type": "code",
      "metadata": {
        "id": "xh-Mgt5X6koS",
        "colab": {
          "base_uri": "https://localhost:8080/",
          "height": 675
        },
        "outputId": "c51faa5b-2f71-474a-83dd-33e33c602a59"
      },
      "source": [
        "# visualising the different countries distribution in the dataset\n",
        "\n",
        "data['country'].value_counts(normalize = True)\n",
        "data['country'].value_counts(dropna = False).plot.bar(color = 'cyan', figsize = (24, 8))\n",
        "\n",
        "plt.title('Distribution of 141 coutries in suicides')\n",
        "plt.xlabel('country name')\n",
        "plt.ylabel('count')\n",
        "plt.show()"
      ],
      "execution_count": null,
      "outputs": [
        {
          "output_type": "display_data",
          "data": {
            "image/png": "[encoded data removed]",
            "text/plain": [
              "<matplotlib.figure.Figure at 0x7f3bbbc9e470>"
            ]
          },
          "metadata": {
            "tags": []
          }
        }
      ]
    },
    {
      "cell_type": "code",
      "metadata": {
        "id": "Y4egxhbA79x9",
        "colab": {
          "base_uri": "https://localhost:8080/",
          "height": 36
        },
        "outputId": "4881ae8c-c0dc-439b-c5f4-0cba08d3cdef"
      },
      "source": [
        "data['year'].value_counts().count()"
      ],
      "execution_count": null,
      "outputs": [
        {
          "output_type": "execute_result",
          "data": {
            "text/plain": [
              "38"
            ]
          },
          "metadata": {
            "tags": []
          },
          "execution_count": 159
        }
      ]
    },
    {
      "cell_type": "code",
      "metadata": {
        "id": "0y_PwMJX7isq",
        "colab": {
          "base_uri": "https://localhost:8080/",
          "height": 416
        },
        "outputId": "b92aad75-b1f7-4252-8491-9fd5223d9ba9"
      },
      "source": [
        "# visualising the different year distribution in the dataset\n",
        "\n",
        "data['year'].value_counts(normalize = True)\n",
        "data['year'].value_counts(dropna = False,).plot.bar(color = 'magenta', figsize = (8, 6))\n",
        "\n",
        "plt.title('Distribution of suicides from the year 1985 to 2016')\n",
        "plt.xlabel('year')\n",
        "plt.ylabel('count')\n",
        "plt.show()"
      ],
      "execution_count": null,
      "outputs": [
        {
          "output_type": "display_data",
          "data": {
            "image/png": "[encoded data removed]",
            "text/plain": [
              "<matplotlib.figure.Figure at 0x7f3bc27f8a20>"
            ]
          },
          "metadata": {
            "tags": []
          }
        }
      ]
    },
    {
      "cell_type": "code",
      "metadata": {
        "id": "jm6_1A6BJTck",
        "colab": {
          "base_uri": "https://localhost:8080/",
          "height": 73
        },
        "outputId": "0288f0a5-de28-4017-c739-653ffb5b6894"
      },
      "source": [
        "# label encoding for gender\n",
        "\n",
        "from sklearn.preprocessing import LabelEncoder\n",
        "\n",
        "# creating an encoder\n",
        "le = LabelEncoder()\n",
        "data['gender'] = le.fit_transform(data['gender'])\n",
        "\n",
        "data['gender'].value_counts()"
      ],
      "execution_count": null,
      "outputs": [
        {
          "output_type": "execute_result",
          "data": {
            "text/plain": [
              "1    21888\n",
              "0    21888\n",
              "Name: gender, dtype: int64"
            ]
          },
          "metadata": {
            "tags": []
          },
          "execution_count": 161
        }
      ]
    },
    {
      "cell_type": "code",
      "metadata": {
        "id": "wG0QB7K3IB_8"
      },
      "source": [
        "# replacing categorical values in the age column\n",
        "\n",
        "data['age'] = data['age'].replace('5-14 years', 0)\n",
        "data['age'] = data['age'].replace('15-24 years', 1)\n",
        "data['age'] = data['age'].replace('25-34 years', 2)\n",
        "data['age'] = data['age'].replace('35-54 years', 3)\n",
        "data['age'] = data['age'].replace('55-74 years', 4)\n",
        "data['age'] = data['age'].replace('75+ years', 5)\n",
        "\n",
        "#data['age'].value_counts()"
      ],
      "execution_count": null,
      "outputs": []
    },
    {
      "cell_type": "code",
      "metadata": {
        "id": "uHXE41lcDNF-",
        "colab": {
          "base_uri": "https://localhost:8080/",
          "height": 392
        },
        "outputId": "135355ab-7942-40b9-981f-a84efadd70fe"
      },
      "source": [
        "# suicides in different age groups\n",
        "\n",
        "x1 = data[data['age'] == 0]['suicides'].sum()\n",
        "x2 = data[data['age'] == 1]['suicides'].sum()\n",
        "x3 = data[data['age'] == 2]['suicides'].sum()\n",
        "x4 = data[data['age'] == 3]['suicides'].sum()\n",
        "x5 = data[data['age'] == 4]['suicides'].sum()\n",
        "x6 = data[data['age'] == 5]['suicides'].sum()\n",
        "\n",
        "x = pd.DataFrame([x1, x2, x3, x4, x5, x6])\n",
        "x.index = ['5-14', '15-24', '25-34', '35-54', '55-74', '75+']\n",
        "x.plot(kind = 'bar', color = 'grey')\n",
        "\n",
        "plt.title('suicides in different age groups')\n",
        "plt.xlabel('Age Group')\n",
        "plt.ylabel('count')\n",
        "plt.show()"
      ],
      "execution_count": null,
      "outputs": [
        {
          "output_type": "display_data",
          "data": {
            "image/png": "[encoded data removed]",
            "text/plain": [
              "<matplotlib.figure.Figure at 0x7f3bc05f9ac8>"
            ]
          },
          "metadata": {
            "tags": []
          }
        }
      ]
    },
    {
      "cell_type": "code",
      "metadata": {
        "id": "5GOO-_879SLV",
        "colab": {
          "base_uri": "https://localhost:8080/",
          "height": 236
        },
        "outputId": "dc35011f-bf80-4ca8-b42d-880f67c0c81c"
      },
      "source": [
        "# visualising the gender distribution in the dataset\n",
        "\n",
        "data['gender'].value_counts(normalize = True)\n",
        "data['gender'].value_counts(dropna = False).plot.bar(color = 'black', figsize = (4, 3))\n",
        "\n",
        "plt.title('Distribution of 141 coutries in suicides')\n",
        "plt.xlabel('gender')\n",
        "plt.ylabel('count')\n",
        "plt.show()"
      ],
      "execution_count": null,
      "outputs": [
        {
          "output_type": "display_data",
          "data": {
            "image/png": "[encoded data removed]",
            "text/plain": [
              "<matplotlib.figure.Figure at 0x7f3bc46f4d30>"
            ]
          },
          "metadata": {
            "tags": []
          }
        }
      ]
    },
    {
      "cell_type": "code",
      "metadata": {
        "id": "NT7dp5Q3CJpZ",
        "colab": {
          "base_uri": "https://localhost:8080/",
          "height": 36
        },
        "outputId": "a33ae191-832d-4768-aad3-fc3c792784e3"
      },
      "source": [
        "# total population of 141 countres over which the suicides survey is committed\n",
        "\n",
        "data['population'].sum()"
      ],
      "execution_count": null,
      "outputs": [
        {
          "output_type": "execute_result",
          "data": {
            "text/plain": [
              "63761315943.0"
            ]
          },
          "metadata": {
            "tags": []
          },
          "execution_count": 177
        }
      ]
    },
    {
      "cell_type": "code",
      "metadata": {
        "id": "CNvH3Mh4-kSr",
        "colab": {
          "base_uri": "https://localhost:8080/",
          "height": 36
        },
        "outputId": "1244029b-e2cb-464f-de61-6e2daaf66939"
      },
      "source": [
        "# Average population\n",
        "\n",
        "Avg_pop = data['population'].mean()\n",
        "print(Avg_pop)"
      ],
      "execution_count": null,
      "outputs": [
        {
          "output_type": "stream",
          "text": [
            "1664091.1353742562\n"
          ],
          "name": "stdout"
        }
      ]
    },
    {
      "cell_type": "code",
      "metadata": {
        "id": "wSNV1nF68WjD",
        "colab": {
          "base_uri": "https://localhost:8080/",
          "height": 36
        },
        "outputId": "6676df72-f49a-427d-ed37-82e8a367020a"
      },
      "source": [
        "# total number of suicides committed in the 141 countries from 1985 to 2016\n",
        "\n",
        "data['suicides'].sum()"
      ],
      "execution_count": null,
      "outputs": [
        {
          "output_type": "execute_result",
          "data": {
            "text/plain": [
              "8026455.0"
            ]
          },
          "metadata": {
            "tags": []
          },
          "execution_count": 179
        }
      ]
    },
    {
      "cell_type": "code",
      "metadata": {
        "id": "cdveLouu_Cpk",
        "colab": {
          "base_uri": "https://localhost:8080/",
          "height": 36
        },
        "outputId": "fb558619-c9a2-4daf-ac59-320525e7a611"
      },
      "source": [
        "# Average suicide in the world\n",
        "\n",
        "Avg_sui = data['suicides'].mean()\n",
        "print(Avg_sui)"
      ],
      "execution_count": null,
      "outputs": [
        {
          "output_type": "stream",
          "text": [
            "193.3153901734104\n"
          ],
          "name": "stdout"
        }
      ]
    },
    {
      "cell_type": "code",
      "metadata": {
        "id": "vYgvtkOQB3OM",
        "colab": {
          "base_uri": "https://localhost:8080/",
          "height": 36
        },
        "outputId": "74e52e33-55ba-4ded-fc08-66ac57c7e39d"
      },
      "source": [
        "# Imputing the NaN values from the population column\n",
        "\n",
        "data['population'] = data['population'].fillna(data['population'].median())\n",
        "data['population'].isnull().any()"
      ],
      "execution_count": null,
      "outputs": [
        {
          "output_type": "execute_result",
          "data": {
            "text/plain": [
              "False"
            ]
          },
          "metadata": {
            "tags": []
          },
          "execution_count": 181
        }
      ]
    },
    {
      "cell_type": "code",
      "metadata": {
        "id": "AasgisFuDzI8",
        "colab": {
          "base_uri": "https://localhost:8080/",
          "height": 36
        },
        "outputId": "b330ee9b-635b-42e9-90c9-ab2fdb557410"
      },
      "source": [
        "# Imputing the values suicides no column\n",
        "\n",
        "data['suicides'] = data['suicides'].fillna(0)\n",
        "data['suicides'].isnull().any()"
      ],
      "execution_count": null,
      "outputs": [
        {
          "output_type": "execute_result",
          "data": {
            "text/plain": [
              "False"
            ]
          },
          "metadata": {
            "tags": []
          },
          "execution_count": 182
        }
      ]
    },
    {
      "cell_type": "code",
      "metadata": {
        "id": "ab0rU71Eb_eC",
        "colab": {
          "base_uri": "https://localhost:8080/",
          "height": 49
        },
        "outputId": "c987e3ea-2cc4-4520-bae6-8a2b4c2bb1f9"
      },
      "source": [
        "# rearranging the columns \n",
        "\n",
        "data = data[['country', 'year', 'gender', 'age', 'population', 'suicides']]\n",
        "data.head(0)"
      ],
      "execution_count": null,
      "outputs": [
        {
          "output_type": "execute_result",
          "data": {
            "text/html": [
              "<div>\n",
              "<style scoped>\n",
              "    .dataframe tbody tr th:only-of-type {\n",
              "        vertical-align: middle;\n",
              "    }\n",
              "\n",
              "    .dataframe tbody tr th {\n",
              "        vertical-align: top;\n",
              "    }\n",
              "\n",
              "    .dataframe thead th {\n",
              "        text-align: right;\n",
              "    }\n",
              "</style>\n",
              "<table border=\"1\" class=\"dataframe\">\n",
              "  <thead>\n",
              "    <tr style=\"text-align: right;\">\n",
              "      <th></th>\n",
              "      <th>country</th>\n",
              "      <th>year</th>\n",
              "      <th>gender</th>\n",
              "      <th>age</th>\n",
              "      <th>population</th>\n",
              "      <th>suicides</th>\n",
              "    </tr>\n",
              "  </thead>\n",
              "  <tbody>\n",
              "  </tbody>\n",
              "</table>\n",
              "</div>"
            ],
            "text/plain": [
              "Empty DataFrame\n",
              "Columns: [country, year, gender, age, population, suicides]\n",
              "Index: []"
            ]
          },
          "metadata": {
            "tags": []
          },
          "execution_count": 183
        }
      ]
    },
    {
      "cell_type": "code",
      "metadata": {
        "id": "m0liORvUc0kl",
        "colab": {
          "base_uri": "https://localhost:8080/",
          "height": 49
        },
        "outputId": "e58c8aa4-fcf5-44be-e9bb-f0eaa181ee25"
      },
      "source": [
        "# Removing the country Column\n",
        "\n",
        "data = data.drop(['country'], axis = 1)\n",
        "data.head(0)"
      ],
      "execution_count": null,
      "outputs": [
        {
          "output_type": "execute_result",
          "data": {
            "text/html": [
              "<div>\n",
              "<style scoped>\n",
              "    .dataframe tbody tr th:only-of-type {\n",
              "        vertical-align: middle;\n",
              "    }\n",
              "\n",
              "    .dataframe tbody tr th {\n",
              "        vertical-align: top;\n",
              "    }\n",
              "\n",
              "    .dataframe thead th {\n",
              "        text-align: right;\n",
              "    }\n",
              "</style>\n",
              "<table border=\"1\" class=\"dataframe\">\n",
              "  <thead>\n",
              "    <tr style=\"text-align: right;\">\n",
              "      <th></th>\n",
              "      <th>year</th>\n",
              "      <th>gender</th>\n",
              "      <th>age</th>\n",
              "      <th>population</th>\n",
              "      <th>suicides</th>\n",
              "    </tr>\n",
              "  </thead>\n",
              "  <tbody>\n",
              "  </tbody>\n",
              "</table>\n",
              "</div>"
            ],
            "text/plain": [
              "Empty DataFrame\n",
              "Columns: [year, gender, age, population, suicides]\n",
              "Index: []"
            ]
          },
          "metadata": {
            "tags": []
          },
          "execution_count": 184
        }
      ]
    },
    {
      "cell_type": "code",
      "metadata": {
        "id": "GO6yAOMo-KCf",
        "colab": {
          "base_uri": "https://localhost:8080/",
          "height": 54
        },
        "outputId": "1ce39bac-d560-4bb9-9c77-6844c3fdcfb9"
      },
      "source": [
        "#splitting the data into dependent and independent variables\n",
        "\n",
        "x = data.iloc[:,:-1]\n",
        "y = data.iloc[:,-1]\n",
        "\n",
        "print(x.shape)\n",
        "print(y.shape)"
      ],
      "execution_count": null,
      "outputs": [
        {
          "output_type": "stream",
          "text": [
            "(43776, 4)\n",
            "(43776,)\n"
          ],
          "name": "stdout"
        }
      ]
    },
    {
      "cell_type": "code",
      "metadata": {
        "id": "8GqxvJ7ILgNQ",
        "colab": {
          "base_uri": "https://localhost:8080/",
          "height": 92
        },
        "outputId": "ee9bb698-79cf-4320-d22c-30400fa1a23f"
      },
      "source": [
        "# splitting the dataset into training and testing sets\n",
        "\n",
        "from sklearn.model_selection import train_test_split\n",
        "\n",
        "x_train, x_test, y_train, y_test = train_test_split(x, y, test_size = 0.25, random_state = 45)\n",
        "\n",
        "print(x_train.shape)\n",
        "print(y_train.shape)\n",
        "print(x_test.shape)\n",
        "print(y_test.shape)"
      ],
      "execution_count": null,
      "outputs": [
        {
          "output_type": "stream",
          "text": [
            "(32832, 4)\n",
            "(32832,)\n",
            "(10944, 4)\n",
            "(10944,)\n"
          ],
          "name": "stdout"
        }
      ]
    },
    {
      "cell_type": "code",
      "metadata": {
        "id": "XDZ8HsArMWNB",
        "colab": {
          "base_uri": "https://localhost:8080/",
          "height": 74
        },
        "outputId": "7b48924d-4ece-403d-ae09-4787670eba58"
      },
      "source": [
        "# min max scaling\n",
        "\n",
        "# importing the min max scaler\n",
        "from sklearn.preprocessing import MinMaxScaler\n",
        "\n",
        "# creating a scaler\n",
        "mm = MinMaxScaler()\n",
        "\n",
        "# scaling the independent variables\n",
        "x_train = mm.fit_transform(x_train)\n",
        "x_test = mm.transform(x_test)"
      ],
      "execution_count": null,
      "outputs": [
        {
          "output_type": "stream",
          "text": [
            "/usr/local/lib/python3.6/dist-packages/sklearn/preprocessing/data.py:323: DataConversionWarning: Data with input dtype int64, float64 were all converted to float64 by MinMaxScaler.\n",
            "  return self.partial_fit(X, y)\n"
          ],
          "name": "stderr"
        }
      ]
    },
    {
      "cell_type": "code",
      "metadata": {
        "id": "YtQxJQlmdqY3"
      },
      "source": [
        "# using principal component analysis\n",
        "\n",
        "from sklearn.decomposition import PCA\n",
        "\n",
        "# creating a principal component analysis model\n",
        "#pca = PCA(n_components = None)\n",
        "\n",
        "# feeding the independent variables to the PCA model\n",
        "#x_train = pca.fit_transform(x_train)\n",
        "#x_test = pca.transform(x_test)\n",
        "\n",
        "# visualising the principal components that will explain the highest share of variance\n",
        "#explained_variance = pca.explained_variance_ratio_\n",
        "#print(explained_variance)\n",
        "\n",
        "# creating a principal component analysis model\n",
        "#pca = PCA(n_components = 1)\n",
        "\n",
        "# feeding the independent variables to the PCA model\n",
        "#x_train = pca.fit_transform(x_train)\n",
        "#x_test = pca.transform(x_test)"
      ],
      "execution_count": null,
      "outputs": []
    },
    {
      "cell_type": "code",
      "metadata": {
        "id": "7bY1_Ln_nAyk",
        "colab": {
          "base_uri": "https://localhost:8080/",
          "height": 376
        },
        "outputId": "137e7e09-0b41-46d2-959f-599ce645f561"
      },
      "source": [
        "# applying k means clustering\n",
        "\n",
        "# selecting the best choice for no. of clusters\n",
        "from sklearn.cluster import KMeans\n",
        "\n",
        "wcss = []\n",
        "for i in range(1, 11):\n",
        "  km = KMeans(n_clusters = i, init = 'k-means++', max_iter = 300, n_init = 10, random_state = 0)\n",
        "  km.fit(x_train)\n",
        "  wcss.append(km.inertia_)\n",
        "  \n",
        "plt.plot(range(1, 11), wcss)\n",
        "plt.title('The Elbow Method')\n",
        "plt.xlabel('no. of clusters')\n",
        "plt.ylabel('WCSS')\n",
        "plt.show()"
      ],
      "execution_count": null,
      "outputs": [
        {
          "output_type": "display_data",
          "data": {
            "image/png": "[encoded data removed]",
            "text/plain": [
              "<matplotlib.figure.Figure at 0x7f3bc705e668>"
            ]
          },
          "metadata": {
            "tags": []
          }
        }
      ]
    },
    {
      "cell_type": "code",
      "metadata": {
        "id": "xQA-hLSZorPY"
      },
      "source": [
        "# applying kmeans with 4 clusters\n",
        "\n",
        "km = KMeans(n_clusters = 4, init = 'k-means++', max_iter = 300, n_init = 10, random_state = 0)\n",
        "y_means = km.fit_predict(x_train)\n",
        "\n",
        "# visualising the clusters\n",
        "\n",
        "plt.scatter(x_train[y_means == 0, 0], x_train[y_means == 0, 1], s = 100, c = 'pink', label = 'cluster 1')\n",
        "plt.scatter(x_train[y_means == 1, 0], x_train[y_means == 1, 1], s = 100, c = 'cyan', label = 'cluster 2')\n",
        "plt.scatter(x_train[y_means == 2, 0], x_train[y_means == 2, 1], s = 100, c = 'magenta', label = 'cluster 3')\n",
        "plt.scatter(x_train[y_means == 3, 0], x_train[y_means == 3, 1], s = 100, c = 'violet', label = 'cluster 4')\n",
        "\n",
        "plt.scatter(km.cluster_centers_[:,0], km.cluster_centers_[:,1], s = 100, c = 'red', label = 'centroids')\n",
        "\n",
        "plt.title('Cluster of Clients')\n",
        "plt.xlabel('cc')\n",
        "plt.show()\n"
      ],
      "execution_count": null,
      "outputs": []
    },
    {
      "cell_type": "code",
      "metadata": {
        "id": "mbSds_IhM8bY"
      },
      "source": [
        "from sklearn.linear_model import LinearRegression\n",
        "from sklearn.metrics import r2_score\n",
        "\n",
        "# creating the model\n",
        "model = LinearRegression()\n",
        "\n",
        "# feeding the training data into the model\n",
        "model.fit(x_train, y_train)\n",
        "\n",
        "# predicting the test set results\n",
        "y_pred = model.predict(x_test)\n",
        "\n",
        "# calculating the mean squared error\n",
        "mse = np.mean((y_test - y_pred)**2)\n",
        "print(\"MSE :\", mse)\n",
        "\n",
        "# calculating the root mean squared error\n",
        "rmse = np.sqrt(mse)\n",
        "print(\"RMSE :\", rmse)\n",
        "\n",
        "#calculating the r2 score\n",
        "r2 = r2_score(y_test, y_pred)\n",
        "print(\"r2_score :\", r2)\n"
      ],
      "execution_count": null,
      "outputs": []
    },
    {
      "cell_type": "code",
      "metadata": {
        "id": "r00WQ9ecOHQW"
      },
      "source": [
        "from sklearn.svm import SVR\n",
        "\n",
        "# creating the model\n",
        "model = SVR()\n",
        "\n",
        "# feeding the training data into the model\n",
        "model.fit(x_train, y_train)\n",
        "\n",
        "# predicting the test set results\n",
        "y_pred = model.predict(x_test)\n",
        "\n",
        "# calculating the mean squared error\n",
        "mse = np.mean((y_test - y_pred)**2)\n",
        "print(\"MSE :\", mse)\n",
        "\n",
        "# calculating the root mean squared error\n",
        "rmse = np.sqrt(mse)\n",
        "print(\"RMSE :\", rmse)\n",
        "\n",
        "#calculating the r2 score\n",
        "r2 = r2_score(y_test, y_pred)\n",
        "print(\"r2_score :\", r2)\n",
        "\n"
      ],
      "execution_count": null,
      "outputs": []
    },
    {
      "cell_type": "code",
      "metadata": {
        "id": "VYhn0pq8OD6r",
        "colab": {
          "base_uri": "https://localhost:8080/",
          "height": 131
        },
        "outputId": "6e3ebe21-361a-48ae-d10d-a2fbe36a483e"
      },
      "source": [
        "from sklearn.ensemble import RandomForestRegressor\n",
        "\n",
        "# creating the model\n",
        "model = RandomForestRegressor()\n",
        "\n",
        "# feeding the training data into the model\n",
        "model.fit(x_train, y_train)\n",
        "\n",
        "# predicting the test set results\n",
        "y_pred = model.predict(x_test)\n",
        "\n",
        "# calculating the mean squared error\n",
        "mse = np.mean((y_test - y_pred)**2)\n",
        "print(\"MSE :\", mse)\n",
        "\n",
        "# calculating the root mean squared error\n",
        "rmse = np.sqrt(mse)\n",
        "print(\"RMSE :\", rmse)\n",
        "\n",
        "#calculating the r2 score\n",
        "r2 = r2_score(y_test, y_pred)\n",
        "print(\"r2_score :\", r2)\n"
      ],
      "execution_count": null,
      "outputs": [
        {
          "output_type": "stream",
          "text": [
            "/usr/local/lib/python3.6/dist-packages/sklearn/ensemble/forest.py:246: FutureWarning: The default value of n_estimators will change from 10 in version 0.20 to 100 in 0.22.\n",
            "  \"10 in version 0.20 to 100 in 0.22.\", FutureWarning)\n"
          ],
          "name": "stderr"
        },
        {
          "output_type": "stream",
          "text": [
            "MSE : 117021.75686150225\n",
            "RMSE : 342.08442943446323\n",
            "r2_score : 0.8003564233332043\n"
          ],
          "name": "stdout"
        }
      ]
    },
    {
      "cell_type": "code",
      "metadata": {
        "id": "RqZmafkhO3Jy",
        "colab": {
          "base_uri": "https://localhost:8080/",
          "height": 73
        },
        "outputId": "1bbee30b-cfc4-4bd7-f09b-2f10ccf1c96f"
      },
      "source": [
        "from sklearn.tree import DecisionTreeRegressor\n",
        "\n",
        "# creating the model\n",
        "model = DecisionTreeRegressor()\n",
        "\n",
        "# feeding the training data into the model\n",
        "model.fit(x_train, y_train)\n",
        "\n",
        "# predicting the test set results\n",
        "y_pred = model.predict(x_test)\n",
        "\n",
        "# calculating the mean squared error\n",
        "mse = np.mean((y_test - y_pred)**2)\n",
        "print(\"MSE :\", mse)\n",
        "\n",
        "# calculating the root mean squared error\n",
        "rmse = np.sqrt(mse)\n",
        "print(\"RMSE :\", rmse)\n",
        "\n",
        "#calculating the r2 score\n",
        "r2 = r2_score(y_test, y_pred)\n",
        "print(\"r2_score :\", r2)\n"
      ],
      "execution_count": null,
      "outputs": [
        {
          "output_type": "stream",
          "text": [
            "MSE : 151779.80178841596\n",
            "RMSE : 389.5892731947531\n",
            "r2_score : 0.7410578741295126\n"
          ],
          "name": "stdout"
        }
      ]
    },
    {
      "cell_type": "code",
      "metadata": {
        "id": "Hc5CF07-PJfi"
      },
      "source": [
        "from sklearn.ensemble import AdaBoostRegressor\n",
        "\n",
        "# creating the model\n",
        "model = AdaBoostRegressor()\n",
        "\n",
        "# feeding the training data into the model\n",
        "model.fit(x_train, y_train)\n",
        "\n",
        "# predicting the test set results\n",
        "y_pred = model.predict(x_test)\n",
        "\n",
        "# calculating the mean squared error\n",
        "mse = np.mean((y_test - y_pred)**2)\n",
        "print(\"MSE :\", mse)\n",
        "\n",
        "# calculating the root mean squared error\n",
        "rmse = np.sqrt(mse)\n",
        "print(\"RMSE :\", rmse)\n",
        "\n",
        "#calculating the r2 score\n",
        "r2 = r2_score(y_test, y_pred)\n",
        "print(\"r2_score :\", r2)\n"
      ],
      "execution_count": null,
      "outputs": []
    },
    {
      "cell_type": "code",
      "metadata": {
        "id": "y6Z4StyMPar3"
      },
      "source": [
        "from sklearn.neural_network import MLPClassifier\n",
        "\n",
        "# creating the model\n",
        "model = MLPClassifier(hidden_layer_sizes = 100, max_iter = 50 )\n",
        "\n",
        "# feeding the training data into the model\n",
        "model.fit(x_train, y_train)\n",
        "\n",
        "# predicting the test set results\n",
        "y_pred = model.predict(x_test)\n",
        "\n",
        "# calculating the mean squared error\n",
        "mse = np.mean((y_test - y_pred)**2)\n",
        "print(\"MSE :\", mse)\n",
        "\n",
        "# calculating the root mean squared error\n",
        "rmse = np.sqrt(mse)\n",
        "print(\"RMSE :\", rmse)\n",
        "\n",
        "#calculating the r2 score\n",
        "r2 = r2_score(y_test, y_pred)\n",
        "print(\"r2_score :\", r2)\n"
      ],
      "execution_count": null,
      "outputs": []
    }
  ]
}