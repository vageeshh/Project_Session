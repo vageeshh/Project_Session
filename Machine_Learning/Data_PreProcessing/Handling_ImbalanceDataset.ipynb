{
  "nbformat": 4,
  "nbformat_minor": 0,
  "metadata": {
    "colab": {
      "name": "Handling_ImbalanceDataset.ipynb",
      "provenance": []
    },
    "kernelspec": {
      "name": "python3",
      "display_name": "Python 3"
    },
    "language_info": {
      "name": "python"
    }
  },
  "cells": [
    {
      "cell_type": "code",
      "metadata": {
        "id": "5e55wTGTY45q"
      },
      "source": [
        "import numpy as np\n",
        "import pandas as pd\n"
      ],
      "execution_count": 1,
      "outputs": []
    },
    {
      "cell_type": "code",
      "metadata": {
        "colab": {
          "base_uri": "https://localhost:8080/",
          "height": 424
        },
        "id": "7ukAf6oAivSu",
        "outputId": "21ccec37-3689-45bc-ae41-63178dd0dc29"
      },
      "source": [
        "#np arrays\n",
        "random = np.random.randint(low = 0, high =100, size = 1000)\n",
        "name = np.random.choice([1, 2, 3, 4, 5],size =  1000)\n",
        "choice = np.random.choice([10,11,13,12,14],size = 1000)\n",
        "y1 = np.random.choice([1,1],size = 900)\n",
        "y2 = np.random.choice([0,0],size = 100)\n",
        "y = np.concatenate((y1, y2))\n",
        "\n",
        "#creating dictionary\n",
        "dict1 = {\n",
        "    'Random':random, \n",
        "    'Name':name,\n",
        "    'Choice':choice,\n",
        "    'Y': y\n",
        "}\n",
        "\n",
        "#creating dataframe\n",
        "df = pd.DataFrame(dict1)\n",
        "df"
      ],
      "execution_count": 2,
      "outputs": [
        {
          "output_type": "execute_result",
          "data": {
            "text/html": [
              "<div>\n",
              "<style scoped>\n",
              "    .dataframe tbody tr th:only-of-type {\n",
              "        vertical-align: middle;\n",
              "    }\n",
              "\n",
              "    .dataframe tbody tr th {\n",
              "        vertical-align: top;\n",
              "    }\n",
              "\n",
              "    .dataframe thead th {\n",
              "        text-align: right;\n",
              "    }\n",
              "</style>\n",
              "<table border=\"1\" class=\"dataframe\">\n",
              "  <thead>\n",
              "    <tr style=\"text-align: right;\">\n",
              "      <th></th>\n",
              "      <th>Random</th>\n",
              "      <th>Name</th>\n",
              "      <th>Choice</th>\n",
              "      <th>Y</th>\n",
              "    </tr>\n",
              "  </thead>\n",
              "  <tbody>\n",
              "    <tr>\n",
              "      <th>0</th>\n",
              "      <td>98</td>\n",
              "      <td>4</td>\n",
              "      <td>14</td>\n",
              "      <td>1</td>\n",
              "    </tr>\n",
              "    <tr>\n",
              "      <th>1</th>\n",
              "      <td>47</td>\n",
              "      <td>2</td>\n",
              "      <td>12</td>\n",
              "      <td>1</td>\n",
              "    </tr>\n",
              "    <tr>\n",
              "      <th>2</th>\n",
              "      <td>10</td>\n",
              "      <td>4</td>\n",
              "      <td>13</td>\n",
              "      <td>1</td>\n",
              "    </tr>\n",
              "    <tr>\n",
              "      <th>3</th>\n",
              "      <td>82</td>\n",
              "      <td>3</td>\n",
              "      <td>10</td>\n",
              "      <td>1</td>\n",
              "    </tr>\n",
              "    <tr>\n",
              "      <th>4</th>\n",
              "      <td>17</td>\n",
              "      <td>5</td>\n",
              "      <td>14</td>\n",
              "      <td>1</td>\n",
              "    </tr>\n",
              "    <tr>\n",
              "      <th>...</th>\n",
              "      <td>...</td>\n",
              "      <td>...</td>\n",
              "      <td>...</td>\n",
              "      <td>...</td>\n",
              "    </tr>\n",
              "    <tr>\n",
              "      <th>995</th>\n",
              "      <td>28</td>\n",
              "      <td>2</td>\n",
              "      <td>12</td>\n",
              "      <td>0</td>\n",
              "    </tr>\n",
              "    <tr>\n",
              "      <th>996</th>\n",
              "      <td>69</td>\n",
              "      <td>5</td>\n",
              "      <td>10</td>\n",
              "      <td>0</td>\n",
              "    </tr>\n",
              "    <tr>\n",
              "      <th>997</th>\n",
              "      <td>99</td>\n",
              "      <td>2</td>\n",
              "      <td>13</td>\n",
              "      <td>0</td>\n",
              "    </tr>\n",
              "    <tr>\n",
              "      <th>998</th>\n",
              "      <td>13</td>\n",
              "      <td>3</td>\n",
              "      <td>11</td>\n",
              "      <td>0</td>\n",
              "    </tr>\n",
              "    <tr>\n",
              "      <th>999</th>\n",
              "      <td>6</td>\n",
              "      <td>4</td>\n",
              "      <td>10</td>\n",
              "      <td>0</td>\n",
              "    </tr>\n",
              "  </tbody>\n",
              "</table>\n",
              "<p>1000 rows × 4 columns</p>\n",
              "</div>"
            ],
            "text/plain": [
              "     Random  Name  Choice  Y\n",
              "0        98     4      14  1\n",
              "1        47     2      12  1\n",
              "2        10     4      13  1\n",
              "3        82     3      10  1\n",
              "4        17     5      14  1\n",
              "..      ...   ...     ... ..\n",
              "995      28     2      12  0\n",
              "996      69     5      10  0\n",
              "997      99     2      13  0\n",
              "998      13     3      11  0\n",
              "999       6     4      10  0\n",
              "\n",
              "[1000 rows x 4 columns]"
            ]
          },
          "metadata": {},
          "execution_count": 2
        }
      ]
    },
    {
      "cell_type": "code",
      "metadata": {
        "colab": {
          "base_uri": "https://localhost:8080/"
        },
        "id": "6S_Sq28xZMK8",
        "outputId": "6b9644bd-be0a-4ded-9885-56b858ebfe91"
      },
      "source": [
        "x = df['Y'].value_counts()\n",
        "\n",
        "# printing the values\n",
        "print(x)"
      ],
      "execution_count": 3,
      "outputs": [
        {
          "output_type": "stream",
          "name": "stdout",
          "text": [
            "1    900\n",
            "0    100\n",
            "Name: Y, dtype: int64\n"
          ]
        }
      ]
    },
    {
      "cell_type": "code",
      "metadata": {
        "colab": {
          "base_uri": "https://localhost:8080/",
          "height": 237
        },
        "id": "8Q6PGuO5ZMNj",
        "outputId": "29a9c864-a09e-4315-dd8b-ec252b3890e3"
      },
      "source": [
        "import matplotlib.pyplot as plt\n",
        "plt.rcParams['figure.figsize'] = (5, 3)\n",
        "x.plot(kind = 'bar', color ='green')\n",
        "\n",
        "plt.title('Imbalance dataset', fontsize = 12)\n",
        "plt.xlabel('Attrition')\n",
        "plt.ylabel('Values')\n",
        "plt.show()"
      ],
      "execution_count": 4,
      "outputs": [
        {
          "output_type": "display_data",
          "data": {
            "image/png": "[encoded data removed]",
            "text/plain": [
              "<Figure size 360x216 with 1 Axes>"
            ]
          },
          "metadata": {
            "needs_background": "light"
          }
        }
      ]
    },
    {
      "cell_type": "markdown",
      "metadata": {
        "id": "LdXBKFJQa8p0"
      },
      "source": [
        "### Separating majority and minority classes"
      ]
    },
    {
      "cell_type": "code",
      "metadata": {
        "id": "sHDBEnN4ZMQL"
      },
      "source": [
        "from sklearn.utils import resample\n",
        "\n",
        "#separating majority and minority classes\n",
        "df_majority = df[df.Y == 1]\n",
        "df_minority = df[df.Y == 0]"
      ],
      "execution_count": 5,
      "outputs": []
    },
    {
      "cell_type": "markdown",
      "metadata": {
        "id": "-WS_cuu4b4jc"
      },
      "source": [
        "### Downsampling majority class"
      ]
    },
    {
      "cell_type": "code",
      "metadata": {
        "id": "iLZgS3m_aecX"
      },
      "source": [
        "#Upsampling minority class\n",
        "\n",
        "df_majority_downsampled = resample(df_majority, \n",
        "                                 replace=True,     # sample with replacement\n",
        "                                 n_samples=100,    # to match minority class\n",
        "                                 random_state=111) \n",
        "\n",
        "#combining majority classes with upsampled minority class\n",
        "\n",
        "df_downsampled = pd.concat([df_minority, df_majority_downsampled])"
      ],
      "execution_count": 6,
      "outputs": []
    },
    {
      "cell_type": "code",
      "metadata": {
        "colab": {
          "base_uri": "https://localhost:8080/"
        },
        "id": "4dFyVASqafTl",
        "outputId": "947ba717-bc8c-4058-a169-aad5c9a9344a"
      },
      "source": [
        "df_downsampled.shape"
      ],
      "execution_count": 7,
      "outputs": [
        {
          "output_type": "execute_result",
          "data": {
            "text/plain": [
              "(200, 4)"
            ]
          },
          "metadata": {},
          "execution_count": 7
        }
      ]
    },
    {
      "cell_type": "markdown",
      "metadata": {
        "id": "Ok2oFJGWcRob"
      },
      "source": [
        "### Upsampling minority class"
      ]
    },
    {
      "cell_type": "code",
      "metadata": {
        "id": "5BjQN06pbzBz"
      },
      "source": [
        "df_minority_upsampled = resample(df_minority, \n",
        "                                 replace=True,     # sample with replacement\n",
        "                                 n_samples=900,    # to match majority class\n",
        "                                 random_state=123) \n",
        "\n",
        "#combining majority classes with upsampled minority class\n",
        "\n",
        "df_upsampled = pd.concat([df_majority, df_minority_upsampled])"
      ],
      "execution_count": 8,
      "outputs": []
    },
    {
      "cell_type": "code",
      "metadata": {
        "colab": {
          "base_uri": "https://localhost:8080/"
        },
        "id": "i-SJ96dycY9j",
        "outputId": "40d05fb5-5ae6-423d-86b7-45047c0559f5"
      },
      "source": [
        "df_upsampled.shape"
      ],
      "execution_count": 9,
      "outputs": [
        {
          "output_type": "execute_result",
          "data": {
            "text/plain": [
              "(1800, 4)"
            ]
          },
          "metadata": {},
          "execution_count": 9
        }
      ]
    },
    {
      "cell_type": "markdown",
      "metadata": {
        "id": "95p-Y3h4cfEr"
      },
      "source": [
        "## SMOTE :Synthetic Minority Oversampling Technique"
      ]
    },
    {
      "cell_type": "code",
      "metadata": {
        "colab": {
          "base_uri": "https://localhost:8080/"
        },
        "id": "MV6SAn2lcZ4U",
        "outputId": "108f714f-b3f1-457f-bc28-249f6eedf4e4"
      },
      "source": [
        "from imblearn.over_sampling import SMOTE"
      ],
      "execution_count": 10,
      "outputs": [
        {
          "output_type": "stream",
          "name": "stderr",
          "text": [
            "/usr/local/lib/python3.7/dist-packages/sklearn/externals/six.py:31: FutureWarning: The module is deprecated in version 0.21 and will be removed in version 0.23 since we've dropped support for Python 2.7. Please rely on the official version of six (https://pypi.org/project/six/).\n",
            "  \"(https://pypi.org/project/six/).\", FutureWarning)\n",
            "/usr/local/lib/python3.7/dist-packages/sklearn/utils/deprecation.py:144: FutureWarning: The sklearn.neighbors.base module is  deprecated in version 0.22 and will be removed in version 0.24. The corresponding classes / functions should instead be imported from sklearn.neighbors. Anything that cannot be imported from sklearn.neighbors is now part of the private API.\n",
            "  warnings.warn(message, FutureWarning)\n"
          ]
        }
      ]
    },
    {
      "cell_type": "code",
      "metadata": {
        "id": "JZtytVR0dGtD"
      },
      "source": [
        "X_train = df.iloc[:,0:3]\n",
        "y_train = df.iloc[:,3:]"
      ],
      "execution_count": 11,
      "outputs": []
    },
    {
      "cell_type": "code",
      "metadata": {
        "colab": {
          "base_uri": "https://localhost:8080/"
        },
        "id": "2Kx6xcp_cjli",
        "outputId": "b953eab9-4371-4a78-b157-59d3ece5ef5b"
      },
      "source": [
        "sm = SMOTE(random_state=2)\n",
        "\n",
        "X_smote,y_smote=sm.fit_sample(X_train,y_train)"
      ],
      "execution_count": 13,
      "outputs": [
        {
          "output_type": "stream",
          "name": "stderr",
          "text": [
            "/usr/local/lib/python3.7/dist-packages/sklearn/utils/validation.py:760: DataConversionWarning: A column-vector y was passed when a 1d array was expected. Please change the shape of y to (n_samples, ), for example using ravel().\n",
            "  y = column_or_1d(y, warn=True)\n",
            "/usr/local/lib/python3.7/dist-packages/sklearn/utils/deprecation.py:87: FutureWarning: Function safe_indexing is deprecated; safe_indexing is deprecated in version 0.22 and will be removed in version 0.24.\n",
            "  warnings.warn(msg, category=FutureWarning)\n"
          ]
        }
      ]
    },
    {
      "cell_type": "code",
      "metadata": {
        "colab": {
          "base_uri": "https://localhost:8080/"
        },
        "id": "nCgK3oSpkKcj",
        "outputId": "d42bcdad-6ff0-4a39-f3a6-968101d2cce0"
      },
      "source": [
        "X_train.shape, y_train.shape"
      ],
      "execution_count": 15,
      "outputs": [
        {
          "output_type": "execute_result",
          "data": {
            "text/plain": [
              "((1000, 3), (1000, 1))"
            ]
          },
          "metadata": {},
          "execution_count": 15
        }
      ]
    },
    {
      "cell_type": "code",
      "metadata": {
        "colab": {
          "base_uri": "https://localhost:8080/"
        },
        "id": "i9ymJQP1kN2k",
        "outputId": "f00fdcea-0ef1-48d6-96b3-64a3b9eacfdc"
      },
      "source": [
        "X_smote.shape , y_smote.shape"
      ],
      "execution_count": 16,
      "outputs": [
        {
          "output_type": "execute_result",
          "data": {
            "text/plain": [
              "((1800, 3), (1800,))"
            ]
          },
          "metadata": {},
          "execution_count": 16
        }
      ]
    },
    {
      "cell_type": "code",
      "metadata": {
        "id": "OMmWWZN6kU0i"
      },
      "source": [
        ""
      ],
      "execution_count": null,
      "outputs": []
    }
  ]
}